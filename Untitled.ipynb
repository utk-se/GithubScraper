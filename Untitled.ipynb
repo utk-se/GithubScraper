{
 "cells": [
  {
   "cell_type": "code",
   "execution_count": 1,
   "metadata": {},
   "outputs": [],
   "source": [
    "import pandas as pd\n",
    "df = pd.read_csv('Promise.csv')"
   ]
  },
  {
   "cell_type": "code",
   "execution_count": 2,
   "metadata": {},
   "outputs": [
    {
     "data": {
      "text/html": [
       "<div>\n",
       "<style scoped>\n",
       "    .dataframe tbody tr th:only-of-type {\n",
       "        vertical-align: middle;\n",
       "    }\n",
       "\n",
       "    .dataframe tbody tr th {\n",
       "        vertical-align: top;\n",
       "    }\n",
       "\n",
       "    .dataframe thead th {\n",
       "        text-align: right;\n",
       "    }\n",
       "</style>\n",
       "<table border=\"1\" class=\"dataframe\">\n",
       "  <thead>\n",
       "    <tr style=\"text-align: right;\">\n",
       "      <th></th>\n",
       "      <th>JavaSyntaxError</th>\n",
       "      <th>code_col</th>\n",
       "      <th>code_line</th>\n",
       "      <th>code</th>\n",
       "      <th>astcode</th>\n",
       "      <th>label</th>\n",
       "      <th>repoSource</th>\n",
       "      <th>add</th>\n",
       "      <th>allow</th>\n",
       "      <th>bug</th>\n",
       "      <th>...</th>\n",
       "      <th>new</th>\n",
       "      <th>npe</th>\n",
       "      <th>refactor</th>\n",
       "      <th>remov</th>\n",
       "      <th>report</th>\n",
       "      <th>set</th>\n",
       "      <th>support</th>\n",
       "      <th>test</th>\n",
       "      <th>use</th>\n",
       "      <th>database_source</th>\n",
       "    </tr>\n",
       "  </thead>\n",
       "  <tbody>\n",
       "    <tr>\n",
       "      <th>0</th>\n",
       "      <td>True</td>\n",
       "      <td>NaN</td>\n",
       "      <td>NaN</td>\n",
       "      <td>/**\\n * Copyright 2015 Netflix, Inc.\\n * \\n * ...</td>\n",
       "      <td>NaN</td>\n",
       "      <td>p</td>\n",
       "      <td>ReactiveX-RxJava</td>\n",
       "      <td>1</td>\n",
       "      <td>0</td>\n",
       "      <td>0</td>\n",
       "      <td>...</td>\n",
       "      <td>0</td>\n",
       "      <td>0</td>\n",
       "      <td>0</td>\n",
       "      <td>0</td>\n",
       "      <td>0</td>\n",
       "      <td>0</td>\n",
       "      <td>0</td>\n",
       "      <td>0</td>\n",
       "      <td>0</td>\n",
       "      <td>Promise</td>\n",
       "    </tr>\n",
       "  </tbody>\n",
       "</table>\n",
       "<p>1 rows × 28 columns</p>\n",
       "</div>"
      ],
      "text/plain": [
       "   JavaSyntaxError  code_col  code_line  \\\n",
       "0             True       NaN        NaN   \n",
       "\n",
       "                                                code astcode label  \\\n",
       "0  /**\\n * Copyright 2015 Netflix, Inc.\\n * \\n * ...     NaN     p   \n",
       "\n",
       "         repoSource  add  allow  bug       ...         new  npe  refactor  \\\n",
       "0  ReactiveX-RxJava    1      0    0       ...           0    0         0   \n",
       "\n",
       "   remov  report  set  support  test  use  database_source  \n",
       "0      0       0    0        0     0    0          Promise  \n",
       "\n",
       "[1 rows x 28 columns]"
      ]
     },
     "execution_count": 2,
     "metadata": {},
     "output_type": "execute_result"
    }
   ],
   "source": [
    "df.head(1)"
   ]
  },
  {
   "cell_type": "code",
   "execution_count": null,
   "metadata": {},
   "outputs": [],
   "source": [
    "from pd_doc2vec import doc2vec\n",
    "\n",
    "x = doc2vec(df,'text', ['genre'], build=True )\n",
    "x.verbose=True"
   ]
  },
  {
   "cell_type": "code",
   "execution_count": 4,
   "metadata": {},
   "outputs": [
    {
     "data": {
      "text/plain": [
       "JavaSyntaxError      0\n",
       "code_col           542\n",
       "code_line          542\n",
       "code               230\n",
       "astcode            312\n",
       "label                0\n",
       "repoSource           0\n",
       "add                  0\n",
       "allow                0\n",
       "bug                  0\n",
       "chang                0\n",
       "error                0\n",
       "fail                 0\n",
       "fix                  0\n",
       "implement            0\n",
       "improv               0\n",
       "issu                 0\n",
       "method               0\n",
       "new                  0\n",
       "npe                  0\n",
       "refactor             0\n",
       "remov                0\n",
       "report               0\n",
       "set                  0\n",
       "support              0\n",
       "test                 0\n",
       "use                  0\n",
       "database_source      0\n",
       "dtype: int64"
      ]
     },
     "execution_count": 4,
     "metadata": {},
     "output_type": "execute_result"
    }
   ],
   "source": [
    "df.isna().sum()"
   ]
  },
  {
   "cell_type": "code",
   "execution_count": 5,
   "metadata": {},
   "outputs": [],
   "source": [
    "df = df.dropna(subset=['astcode'])"
   ]
  },
  {
   "cell_type": "code",
   "execution_count": 6,
   "metadata": {},
   "outputs": [
    {
     "data": {
      "text/plain": [
       "JavaSyntaxError      0\n",
       "code_col           230\n",
       "code_line          230\n",
       "code               230\n",
       "astcode              0\n",
       "label                0\n",
       "repoSource           0\n",
       "add                  0\n",
       "allow                0\n",
       "bug                  0\n",
       "chang                0\n",
       "error                0\n",
       "fail                 0\n",
       "fix                  0\n",
       "implement            0\n",
       "improv               0\n",
       "issu                 0\n",
       "method               0\n",
       "new                  0\n",
       "npe                  0\n",
       "refactor             0\n",
       "remov                0\n",
       "report               0\n",
       "set                  0\n",
       "support              0\n",
       "test                 0\n",
       "use                  0\n",
       "database_source      0\n",
       "dtype: int64"
      ]
     },
     "execution_count": 6,
     "metadata": {},
     "output_type": "execute_result"
    }
   ],
   "source": [
    "df.isna().sum()"
   ]
  },
  {
   "cell_type": "code",
   "execution_count": 8,
   "metadata": {},
   "outputs": [
    {
     "name": "stdout",
     "output_type": "stream",
     "text": [
      "label\n"
     ]
    },
    {
     "name": "stderr",
     "output_type": "stream",
     "text": [
      "  0%|          | 0/18 [00:00<?, ?it/s]/usr/local/lib/python3.5/dist-packages/gensim/matutils.py:737: FutureWarning: Conversion of the second argument of issubdtype from `int` to `np.signedinteger` is deprecated. In future, it will be treated as `np.int64 == np.dtype(int).type`.\n",
      "  if np.issubdtype(vec.dtype, np.int):\n",
      "100%|██████████| 18/18 [00:00<00:00, 409.22it/s]"
     ]
    },
    {
     "name": "stdout",
     "output_type": "stream",
     "text": [
      "Accuracy Score:  0.7222222222222222\n",
      "Label Score:  [0.6666666666666666, 0.0, 0.8]\n"
     ]
    },
    {
     "name": "stderr",
     "output_type": "stream",
     "text": [
      "\n",
      "/home/nwest13/Curent/Manny/Code/pd_doc2vec.py:122: SettingWithCopyWarning: \n",
      "A value is trying to be set on a copy of a slice from a DataFrame.\n",
      "Try using .loc[row_indexer,col_indexer] = value instead\n",
      "\n",
      "See the caveats in the documentation: http://pandas.pydata.org/pandas-docs/stable/indexing.html#indexing-view-versus-copy\n",
      "  test['results'] = self.predict(test[X])\n",
      "/usr/local/lib/python3.5/dist-packages/sklearn/metrics/classification.py:1135: UndefinedMetricWarning: F-score is ill-defined and being set to 0.0 in labels with no predicted samples.\n",
      "  'precision', 'predicted', average, warn_for)\n"
     ]
    },
    {
     "data": {
      "text/plain": [
       "[[0.6666666666666666, 0.0, 0.8], 0.7222222222222222]"
      ]
     },
     "execution_count": 8,
     "metadata": {},
     "output_type": "execute_result"
    }
   ],
   "source": [
    "from pd_doc2vec import doc2vec\n",
    "\n",
    "x = doc2vec(df,'astcode', ['label'], build=True )\n",
    "x.score(verbose=True)"
   ]
  },
  {
   "cell_type": "code",
   "execution_count": null,
   "metadata": {},
   "outputs": [],
   "source": []
  }
 ],
 "metadata": {
  "kernelspec": {
   "display_name": "Python 3",
   "language": "python",
   "name": "python3"
  },
  "language_info": {
   "codemirror_mode": {
    "name": "ipython",
    "version": 3
   },
   "file_extension": ".py",
   "mimetype": "text/x-python",
   "name": "python",
   "nbconvert_exporter": "python",
   "pygments_lexer": "ipython3",
   "version": "3.5.2"
  }
 },
 "nbformat": 4,
 "nbformat_minor": 2
}
